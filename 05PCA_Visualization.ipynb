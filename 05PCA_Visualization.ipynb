{
 "cells": [
  {
   "cell_type": "markdown",
   "metadata": {
    "colab_type": "text",
    "id": "view-in-github"
   },
   "source": [
    "<a href=\"https://colab.research.google.com/github/ccaballeroh/MCPR-2021/blob/main/05PCA_Visualization.ipynb\" target=\"_parent\"><img src=\"https://colab.research.google.com/assets/colab-badge.svg\" alt=\"Open In Colab\"/></a>"
   ]
  },
  {
   "cell_type": "code",
   "execution_count": 1,
   "metadata": {
    "id": "Zy0h-41-Y2vI"
   },
   "outputs": [],
   "source": [
    "from pathlib import Path\n",
    "import sys\n",
    "\n",
    "IN_COLAB = \"google.colab\" in sys.modules"
   ]
  },
  {
   "cell_type": "code",
   "execution_count": null,
   "metadata": {
    "id": "-LHZFnDqY2vK"
   },
   "outputs": [],
   "source": [
    "import warnings\n",
    "warnings.filterwarnings(\"ignore\")\n",
    "if IN_COLAB:\n",
    "    from google.colab import drive\n",
    "    drive.mount('/content/drive/')\n",
    "    ROOT = Path(r\"./drive/My Drive/Translator-Attribution\")\n",
    "    sys.path.insert(0,f\"{ROOT}/\")\n",
    "else:\n",
    "    from helper.analysis import ROOT"
   ]
  },
  {
   "cell_type": "code",
   "execution_count": null,
   "metadata": {
    "id": "1qnj5Nm8Y2vL"
   },
   "outputs": [],
   "source": [
    "from helper.analysis import JSON_FOLDER\n",
    "from helper.features import plot_pca, convert_data"
   ]
  },
  {
   "cell_type": "code",
   "execution_count": null,
   "metadata": {
    "id": "cTvnxW6VY2vM"
   },
   "outputs": [],
   "source": [
    "for author in [\"Ibsen\", \"Quixote\"]:\n",
    "    features_files = [file for file in JSON_FOLDER.iterdir() if file.name.startswith(author)]\n",
    "    for file in features_files:\n",
    "        plot_pca(file=file)        "
   ]
  }
 ],
 "metadata": {
  "colab": {
   "include_colab_link": true,
   "name": "05PCA_Visualization.ipynb",
   "provenance": []
  },
  "kernelspec": {
   "display_name": "Python [conda env:mcpr2021]",
   "language": "python",
   "name": "conda-env-mcpr2021-py"
  },
  "language_info": {
   "codemirror_mode": {
    "name": "ipython",
    "version": 3
   },
   "file_extension": ".py",
   "mimetype": "text/x-python",
   "name": "python",
   "nbconvert_exporter": "python",
   "pygments_lexer": "ipython3",
   "version": "3.6.7"
  }
 },
 "nbformat": 4,
 "nbformat_minor": 4
}
